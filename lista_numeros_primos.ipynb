{
 "cells": [
  {
   "cell_type": "code",
   "execution_count": 1,
   "metadata": {},
   "outputs": [],
   "source": [
    "def lista_primos(n):\n",
    "    \"\"\"Devuelve una lista con los n primeros números primos\n",
    "    \"\"\"\n",
    "    \n",
    "    import numpy as np\n",
    "    \n",
    "    # lista de partida y primer candidato == 9 permiten omitir división entre dos para identificar primos\n",
    "    lista=[2,3,5,7] \n",
    "    candidato=7\n",
    "    while len(lista)<n:\n",
    "        candidato=candidato+2\n",
    "        prueba=0\n",
    "        posibles_divisores=[primo for primo in lista if primo<=np.sqrt(candidato)][1:]\n",
    "        max_pruebas=len(posibles_divisores)\n",
    "        for divisor in posibles_divisores:\n",
    "            prueba=prueba+1\n",
    "            if candidato%divisor==0: \n",
    "                break\n",
    "            if prueba==max_pruebas: \n",
    "                lista.append(candidato)\n",
    "        \n",
    "    return lista[:n]"
   ]
  },
  {
   "cell_type": "code",
   "execution_count": 2,
   "metadata": {},
   "outputs": [
    {
     "data": {
      "text/plain": [
       "[2, 3, 5, 7, 11, 13, 17, 19, 23, 29, 31, 37, 41, 43, 47, 53, 59, 61, 67, 71]"
      ]
     },
     "execution_count": 2,
     "metadata": {},
     "output_type": "execute_result"
    }
   ],
   "source": [
    "lista_primos(20)"
   ]
  },
  {
   "cell_type": "code",
   "execution_count": null,
   "metadata": {},
   "outputs": [],
   "source": []
  }
 ],
 "metadata": {
  "kernelspec": {
   "display_name": "Python 3",
   "language": "python",
   "name": "python3"
  },
  "language_info": {
   "codemirror_mode": {
    "name": "ipython",
    "version": 3
   },
   "file_extension": ".py",
   "mimetype": "text/x-python",
   "name": "python",
   "nbconvert_exporter": "python",
   "pygments_lexer": "ipython3",
   "version": "3.6.9"
  }
 },
 "nbformat": 4,
 "nbformat_minor": 4
}
