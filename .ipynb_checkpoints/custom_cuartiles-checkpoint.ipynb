{
 "cells": [
  {
   "cell_type": "markdown",
   "metadata": {},
   "source": [
    "### Cálculo de cuartiles de lista de valores con lista de frecuencias asociadas. "
   ]
  },
  {
   "cell_type": "code",
   "execution_count": 1,
   "metadata": {},
   "outputs": [],
   "source": [
    "# Con map, filter y reduce: \n",
    "\n",
    "def custom_cuartiles (valores, frecuencias=None):\n",
    "    \n",
    "    \"\"\" Calcula los cuartiles de la distribución en la lista 'valores' con las frecuencias absolutas especificadas\n",
    "    en la lista 'frecuencias'. Ajuste de punto medio cuando una frecuencia es igual a la asociada a un cuartil. \n",
    "    \n",
    "    Herramientas: map y reduce. \n",
    "    \n",
    "    ¿Para qué? Para los casos en los que las frecuencias no se determinan por el número de repeticiones en la \n",
    "    lista, sino por una lista adjunta de frecuencias de cada valor (np.quantile no es aplicable directamente). \n",
    "    \"\"\"\n",
    "        \n",
    "    from functools import reduce\n",
    "    \n",
    "    # Si no hay frecuencias, se imputan unitarias: \n",
    "    if frecuencias==None:\n",
    "        frecuencias=[1]*len(valores)\n",
    "        \n",
    "    # Las dos listas ordenadas de acuerdo con valores: \n",
    "    listas_ordenadas=sorted(zip(valores,frecuencias))\n",
    "    \n",
    "    # Prescinde de tuplas con frecuencia nula (interfieren en ajuste para frecuencias exactas):\n",
    "    tuplas=list(filter(lambda tupla: tupla[1]!=0, listas_ordenadas))\n",
    "    \n",
    "    # Frecuencias absolutas ordenadas de acuerdo con valores: \n",
    "    fr_ord=list(map(lambda tupla: tupla[1], tuplas))\n",
    "    \n",
    "    # Frecuencia absoluta acumulada i-ésima (i=1,2,...,len(frecuencias)):\n",
    "    fr_acum=list(map(lambda i: reduce(lambda x,y: x+y, fr_ord[:i+1]),range(len(fr_ord))))\n",
    "    \n",
    "    # Frecuencia total (suma de frecuencias absolutas): \n",
    "    fr_T=fr_acum[-1]\n",
    "    \n",
    "    # Frecuencias relativas acumuladas: \n",
    "    fr_r_acum=list(map(lambda fr: fr/fr_T, fr_acum))\n",
    "    \n",
    "    # Valores con frecuencias no nulas ordenados: \n",
    "    valores_ord=list(map(lambda tupla: tupla[0], tuplas))\n",
    "    \n",
    "    # Cuartiles (lista Q):\n",
    "    Q=[valores_ord[0]] # q_0 == min (primer elemento)\n",
    "    # q_1 a q_3:\n",
    "    for frq in [0.25,0.5,0.75]: \n",
    "        try:\n",
    "            # Si alguna frecuencia coincide exactamente con la correspondiente al cuartil: \n",
    "            indice_exacto=fr_r_acum.index(frq)\n",
    "            # Ajuste punto medio: \n",
    "            Q.append((valores_ord[indice_exacto]+valores_ord[indice_exacto+1])/2)\n",
    "        except:\n",
    "            # Primer valor con frecuencia por encima de la correspondiente al cuartil: \n",
    "            primera_fr_por_encima=list(filter(lambda fr: fr>frq,fr_r_acum))[0]\n",
    "            Q.append(valores_ord[fr_r_acum.index(primera_fr_por_encima)])\n",
    "            \n",
    "    Q.append(valores_ord[-1]) # q_4 == max (último elemento)\n",
    "    \n",
    "    return Q   # [q0, q1, q2, q3, q4]"
   ]
  },
  {
   "cell_type": "code",
   "execution_count": 2,
   "metadata": {},
   "outputs": [],
   "source": [
    "# Con list comprehension: \n",
    "\n",
    "def custom_cuartiles_bis (valores, frecuencias=None):\n",
    "    \n",
    "    \"\"\" Calcula los cuartiles de la distribución en la lista 'valores' con las frecuencias absolutas especificadas\n",
    "    en la lista 'frecuencias'. Ajuste de punto medio cuando una frecuencia es igual a la asociada a un cuartil. \n",
    "    \n",
    "    Herramientas: list comprehension.  \n",
    "    \n",
    "    ¿Para qué? Para los casos en los que las frecuencias no se determinan por el número de repeticiones en la \n",
    "    lista, sino por una lista adjunta de frecuencias de cada valor (np.quantile no es aplicable directamente). \n",
    "    \"\"\"\n",
    "    \n",
    "    # Si no hay frecuencias, se imputan unitarias: \n",
    "    if frecuencias==None:\n",
    "        frecuencias=[1]*len(valores)\n",
    "        \n",
    "    # Las dos listas ordenadas de acuerdo con valores: \n",
    "    listas_ordenadas=sorted(zip(valores,frecuencias))\n",
    "    \n",
    "    # Prescinde de tuplas con frecuencia nula (interfieren en ajuste para frecuencias exactas):\n",
    "    tuplas=[tupla for tupla in listas_ordenadas if tupla[1]!=0]\n",
    "    \n",
    "    # Frecuencias absolutas ordenadas de acuerdo con valores: \n",
    "    fr_ord=[tupla[1] for tupla in tuplas]\n",
    "    \n",
    "    \n",
    "    # Frecuencia absoluta acumulada i-ésima (i=1,2,...,len(frecuencias)):    \n",
    "    fr_acum=[sum(fr_ord[:i+1]) for i in range(len(fr_ord))]\n",
    "    \n",
    "    # Frecuencia total (suma de frecuencias absolutas): \n",
    "    fr_T=fr_acum[-1]\n",
    "    \n",
    "    # Frecuencias relativas acumuladas: \n",
    "    fr_r_acum=[fr/fr_T for fr in fr_acum]\n",
    "    \n",
    "    # Valores con frecuencias no nulas ordenados: \n",
    "    valores_ord=[valores for (valores, fr) in tuplas]\n",
    "    \n",
    "    # Cuartiles (lista Q):\n",
    "    Q=[valores_ord[0]] # q_0 == min (primer elemento)\n",
    "    # q_1 a q_3:\n",
    "    for frq in [0.25,0.5,0.75]: \n",
    "        try:\n",
    "            # Si alguna frecuencia coincide exactamente con la correspondiente al cuartil: \n",
    "            indice_exacto=fr_r_acum.index(frq)\n",
    "            # Ajuste punto medio: \n",
    "            Q.append((valores_ord[indice_exacto]+valores_ord[indice_exacto+1])/2)\n",
    "        except:\n",
    "            # Primer valor con frecuencia por encima de la correspondiente al cuartil:\n",
    "            primera_fr_por_encima=[fr for fr in fr_r_acum if fr>frq][0]\n",
    "            Q.append(valores_ord[fr_r_acum.index(primera_fr_por_encima)])\n",
    "            \n",
    "    Q.append(valores_ord[-1]) # q_4 == max (último elemento)\n",
    "    \n",
    "    return Q # [q0, q1, q2, q3, q4]"
   ]
  },
  {
   "cell_type": "code",
   "execution_count": 3,
   "metadata": {},
   "outputs": [
    {
     "data": {
      "text/plain": [
       "([1, 2, 2, 5, 9], [1, 2, 2, 5, 9])"
      ]
     },
     "execution_count": 3,
     "metadata": {},
     "output_type": "execute_result"
    }
   ],
   "source": [
    "# Ejemplo: \n",
    "\n",
    "v=[5,9,1,4,7,2] # lista de valores\n",
    "fr=[3,2,1,0,1,6] # lista de frecuencias asociadas\n",
    "\n",
    "custom_cuartiles(v,fr), custom_cuartiles_bis(v,fr) "
   ]
  },
  {
   "cell_type": "markdown",
   "metadata": {},
   "source": [
    "### Cambio de formato de lista: de lista de valores con frecuencias dadas por repetición a lista de valores con lista de frecuencias absolutas asociadas. "
   ]
  },
  {
   "cell_type": "code",
   "execution_count": 4,
   "metadata": {},
   "outputs": [],
   "source": [
    "# Con map: \n",
    "\n",
    "def fr_compactas(valores):\n",
    "    \"\"\" A partir de una lista de valores con o sin repeticiones, devuelve una lista ordenada de valores únicos y \n",
    "    otra lista de frecuencias absolutas asociadas a cada valor. \n",
    "    \n",
    "    Permite adaptar una lista de valores al formato de valores y frecuencias que se emplean en la función \n",
    "    custom_cuartiles. \n",
    "    \n",
    "    Herramientas: map. \n",
    "    \"\"\"\n",
    "    # Lista ordenada de valores únicos: \n",
    "    valores_unicos_ord=sorted(list(set(valores)))\n",
    "    # Lista de frecuencias absolutas asociadas: \n",
    "    fr=list(map(lambda valor: valores.count(valor), valores_unicos_ord))\n",
    "    \n",
    "    return valores_unicos_ord, fr"
   ]
  },
  {
   "cell_type": "code",
   "execution_count": 5,
   "metadata": {},
   "outputs": [],
   "source": [
    "# Con list_comprehension:\n",
    "\n",
    "def fr_compactas_bis(valores):\n",
    "    \"\"\" A partir de una lista de valores con o sin repeticiones, devuelve una lista ordenada de valores únicos y \n",
    "    otra lista de frecuencias absolutas asociadas a cada valor. \n",
    "    \n",
    "    Permite adaptar una lista de valores al formato de valores y frecuencias que se emplean en la función \n",
    "    custom_cuartiles. \n",
    "    \n",
    "    Herramientas: list comprehension.\n",
    "    \"\"\"\n",
    "    # Lista ordenada de valores únicos: \n",
    "    valores_unicos_ord=sorted(list(set(valores)))\n",
    "    # Lista de frecuencias absolutas asociadas: \n",
    "    fr=[valores.count(valor) for valor in valores_unicos_ord]\n",
    "    \n",
    "    return valores_unicos_ord, fr"
   ]
  },
  {
   "cell_type": "code",
   "execution_count": 6,
   "metadata": {},
   "outputs": [
    {
     "data": {
      "text/plain": [
       "([18, 45, 66, 70, 76, 83, 88, 90, 95, 98], [1, 1, 1, 1, 1, 1, 1, 2, 2, 1])"
      ]
     },
     "execution_count": 6,
     "metadata": {},
     "output_type": "execute_result"
    }
   ],
   "source": [
    "# Ejemplo: \n",
    "example=[18,45,66,70,76,83,88,90,90,95,95,98]\n",
    "\n",
    "fr_compactas(example)"
   ]
  },
  {
   "cell_type": "code",
   "execution_count": 7,
   "metadata": {},
   "outputs": [
    {
     "data": {
      "text/plain": [
       "([18, 45, 66, 70, 76, 83, 88, 90, 95, 98], [1, 1, 1, 1, 1, 1, 1, 2, 2, 1])"
      ]
     },
     "execution_count": 7,
     "metadata": {},
     "output_type": "execute_result"
    }
   ],
   "source": [
    "fr_compactas_bis(example)"
   ]
  },
  {
   "cell_type": "code",
   "execution_count": 8,
   "metadata": {},
   "outputs": [
    {
     "data": {
      "text/plain": [
       "array([ True,  True,  True,  True,  True])"
      ]
     },
     "execution_count": 8,
     "metadata": {},
     "output_type": "execute_result"
    }
   ],
   "source": [
    "# Ejemplo: \n",
    "# Cálculo de cuartiles con np.quantile: \n",
    "\n",
    "import numpy as np\n",
    "custom_cuartiles(fr_compactas(example)[0],fr_compactas(example)[1])\\\n",
    "                    ==np.quantile(example,[0,.25,.5,.75,1],interpolation='midpoint')"
   ]
  },
  {
   "cell_type": "code",
   "execution_count": 9,
   "metadata": {},
   "outputs": [
    {
     "data": {
      "text/plain": [
       "array([ True,  True,  True,  True,  True])"
      ]
     },
     "execution_count": 9,
     "metadata": {},
     "output_type": "execute_result"
    }
   ],
   "source": [
    "custom_cuartiles_bis(fr_compactas(example)[0],fr_compactas(example)[1])\\\n",
    "                    ==np.quantile(example,[0,.25,.5,.75,1],interpolation='midpoint')"
   ]
  },
  {
   "cell_type": "markdown",
   "metadata": {},
   "source": [
    "### Cambio de formato de lista: de lista de valores con lista de frecuencias absolutas asociadas a lista de valores con frecuencias establecidas por repetición\n",
    "\n",
    "Permite transformar un par de listas (valores y frecuencias) en otra en el formato válido para np.quantile. "
   ]
  },
  {
   "cell_type": "code",
   "execution_count": 10,
   "metadata": {},
   "outputs": [],
   "source": [
    "# con map: \n",
    "\n",
    "def lista_unica(valores, fr):\n",
    "    \"\"\" Transforma una lista de valores únicos y otra de frecuencias absolutas asociadas en una lista en la que \n",
    "    cada valor aparece tantas veces como corresponde a su frecuencia. \n",
    "    \"\"\"\n",
    "    \n",
    "    from functools import reduce\n",
    "    \n",
    "    out=list(reduce(lambda L1, L2: L1+L2, map(lambda tupla: [tupla[0]]*tupla[1], zip(valores,fr))))\n",
    "    \n",
    "    return out"
   ]
  },
  {
   "cell_type": "code",
   "execution_count": 11,
   "metadata": {},
   "outputs": [],
   "source": [
    "# con double list comprehension: \n",
    "\n",
    "def lista_unica_bis(valores, fr):\n",
    "    \"\"\" Transforma una lista de valores únicos y otra de frecuencias absolutas asociadas en una lista en la que \n",
    "    cada valor aparece tantas veces como corresponde a su frecuencia. \n",
    "    \"\"\"\n",
    "    out=[valor for (valor,fr) in zip(valores,fr) for valor in [valor]*fr]\n",
    "    \n",
    "    return out"
   ]
  },
  {
   "cell_type": "code",
   "execution_count": 12,
   "metadata": {},
   "outputs": [
    {
     "data": {
      "text/plain": [
       "[5, 5, 5, 9, 9, 1, 7, 2, 2, 2, 2, 2, 2]"
      ]
     },
     "execution_count": 12,
     "metadata": {},
     "output_type": "execute_result"
    }
   ],
   "source": [
    "# Ejemplo: \n",
    "\n",
    "v=[5,9,1,4,7,2] # lista de valores\n",
    "fr=[3,2,1,0,1,6] # lista de frecuencias asociadas\n",
    "\n",
    "lista_unica(v,fr)"
   ]
  },
  {
   "cell_type": "code",
   "execution_count": 13,
   "metadata": {},
   "outputs": [
    {
     "data": {
      "text/plain": [
       "[5, 5, 5, 9, 9, 1, 7, 2, 2, 2, 2, 2, 2]"
      ]
     },
     "execution_count": 13,
     "metadata": {},
     "output_type": "execute_result"
    }
   ],
   "source": [
    "# Ejemplo: \n",
    "\n",
    "lista_unica_bis(v,fr)"
   ]
  },
  {
   "cell_type": "code",
   "execution_count": 14,
   "metadata": {},
   "outputs": [
    {
     "data": {
      "text/plain": [
       "True"
      ]
     },
     "execution_count": 14,
     "metadata": {},
     "output_type": "execute_result"
    }
   ],
   "source": [
    "# Ejemplo: \n",
    "lista_unica(fr_compactas(example)[0],fr_compactas(example)[1])==example"
   ]
  },
  {
   "cell_type": "code",
   "execution_count": 15,
   "metadata": {},
   "outputs": [
    {
     "data": {
      "text/plain": [
       "True"
      ]
     },
     "execution_count": 15,
     "metadata": {},
     "output_type": "execute_result"
    }
   ],
   "source": [
    "lista_unica_bis(fr_compactas(example)[0],fr_compactas(example)[1])==example"
   ]
  },
  {
   "cell_type": "code",
   "execution_count": 16,
   "metadata": {},
   "outputs": [
    {
     "data": {
      "text/plain": [
       "array([ True,  True,  True,  True,  True])"
      ]
     },
     "execution_count": 16,
     "metadata": {},
     "output_type": "execute_result"
    }
   ],
   "source": [
    "# Ejemplo/comprobación: \n",
    "np.quantile(lista_unica(v,fr),[0,0.25,0.5,0.75,1], interpolation='midpoint')==custom_cuartiles(v,fr)"
   ]
  },
  {
   "cell_type": "code",
   "execution_count": 17,
   "metadata": {},
   "outputs": [
    {
     "data": {
      "text/plain": [
       "array([ True,  True,  True,  True,  True])"
      ]
     },
     "execution_count": 17,
     "metadata": {},
     "output_type": "execute_result"
    }
   ],
   "source": [
    "np.quantile(lista_unica(v,fr),[0,0.25,0.5,0.75,1], interpolation='midpoint')==custom_cuartiles_bis(v,fr)"
   ]
  },
  {
   "cell_type": "code",
   "execution_count": null,
   "metadata": {},
   "outputs": [],
   "source": []
  },
  {
   "cell_type": "code",
   "execution_count": null,
   "metadata": {},
   "outputs": [],
   "source": []
  },
  {
   "cell_type": "code",
   "execution_count": null,
   "metadata": {},
   "outputs": [],
   "source": []
  }
 ],
 "metadata": {
  "kernelspec": {
   "display_name": "Python 3",
   "language": "python",
   "name": "python3"
  },
  "language_info": {
   "codemirror_mode": {
    "name": "ipython",
    "version": 3
   },
   "file_extension": ".py",
   "mimetype": "text/x-python",
   "name": "python",
   "nbconvert_exporter": "python",
   "pygments_lexer": "ipython3",
   "version": "3.6.9"
  }
 },
 "nbformat": 4,
 "nbformat_minor": 4
}
